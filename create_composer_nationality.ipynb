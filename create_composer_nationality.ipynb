{
 "cells": [
  {
   "cell_type": "code",
   "execution_count": 1,
   "metadata": {},
   "outputs": [],
   "source": [
    "import numpy as np\n",
    "import matplotlib.pyplot as plt\n",
    "import pandas as pd\n",
    "%matplotlib inline \n",
    "\n",
    "path_to_data = 'data/'\n",
    "\n",
    "df = pd.read_csv(path_to_data +'comp_dates.csv')"
   ]
  },
  {
   "cell_type": "markdown",
   "metadata": {},
   "source": [
    "#### Create an empty df with composerName ('last name, first name'), birthYear, deathYear"
   ]
  },
  {
   "cell_type": "code",
   "execution_count": 2,
   "metadata": {},
   "outputs": [],
   "source": [
    "df = df.rename(columns = {\"Unnamed: 0\": \"composerName\"})\n",
    "df['nationality'] = \"\"\n",
    "df = df.set_index(\"composerName\")"
   ]
  },
  {
   "cell_type": "markdown",
   "metadata": {},
   "source": [
    "### Use Wikipedia API to determine composers' nationality"
   ]
  },
  {
   "cell_type": "code",
   "execution_count": 3,
   "metadata": {},
   "outputs": [],
   "source": [
    "import wikipediaapi\n",
    "import re\n",
    "\n",
    "wiki_wiki = wikipediaapi.Wikipedia('en')\n",
    "\n",
    "nationalities = set(['American', \"French\", \"German\", \"Austrian\",\n",
    "                    \"Polish\", \"Norwegian\", \"Swedish\", \"Finnish\", \"Danish\", \"Russian\", \n",
    "                    \"English\", \"British\", \"Italian\", \"Spanish\", \"Portuguese\",\n",
    "                   \"Brazilian\", \"Mexican\", \"Czech\", \"Soviet\", \"Hungarian\", \n",
    "                     \"Canadian\", \"Chinese\", \"Persian\", \"Japanese\", \"Korean\", \"Bohemian\",\n",
    "                    \"Greek\", \"Belgian\", \"Australian\", \"Dutch\", \"Estonian\", \"Romanian\", \"Iceland\"])"
   ]
  },
  {
   "cell_type": "code",
   "execution_count": 4,
   "metadata": {},
   "outputs": [
    {
     "name": "stderr",
     "output_type": "stream",
     "text": [
      "/Users/rogerioshieh/anaconda3/lib/python3.7/site-packages/ipykernel_launcher.py:39: SettingWithCopyWarning: \n",
      "A value is trying to be set on a copy of a slice from a DataFrame\n",
      "\n",
      "See the caveats in the documentation: http://pandas.pydata.org/pandas-docs/stable/user_guide/indexing.html#returning-a-view-versus-a-copy\n",
      "/Users/rogerioshieh/anaconda3/lib/python3.7/site-packages/ipykernel_launcher.py:45: SettingWithCopyWarning: \n",
      "A value is trying to be set on a copy of a slice from a DataFrame\n",
      "\n",
      "See the caveats in the documentation: http://pandas.pydata.org/pandas-docs/stable/user_guide/indexing.html#returning-a-view-versus-a-copy\n"
     ]
    }
   ],
   "source": [
    "not_found = [] #list of not found composers\n",
    "na = []\n",
    "\n",
    "for i in range(0, len(df)):#len(df)): #request times out occasionally, so picking up where it stopped\n",
    "    \n",
    "    # transforming from 'Beethoven, Ludwig van' to 'Ludwig van Beethoven'\n",
    "    composer = df.index[i]\n",
    "    names = re.split(r'[,]', composer) \n",
    "    names.reverse() \n",
    "    composer = \" \".join(names)\n",
    "    \n",
    "    #some composers have alternate spellings in their name between []. Remove them to facilitate Wikipedia lookup.\n",
    "    if \"[\" in composer:\n",
    "        i_i = composer.find('[') -1\n",
    "        j_j = composer.find(']') + 1\n",
    "        composer = composer.replace(composer[i_i:j_j], \"\")\n",
    "        \n",
    "    comp_pg = wiki_wiki.page(composer)\n",
    "    \n",
    "    if comp_pg.exists():\n",
    "        summary = wiki_wiki.extracts(comp_pg, exsentences=2)\n",
    "        summary_list = re.findall(r\"[\\w']+|[.,!?;]\", summary)\n",
    "        nationality = list(nationalities.intersection(summary_list))\n",
    "        \n",
    "        if nationality:\n",
    "            if nationality[0] == \"British\":\n",
    "                nationality[0] = \"English\"\n",
    "            elif nationality[0] == \"Soviet\":\n",
    "                nationality[0] = \"Russian\"\n",
    "            elif nationality[0] == \"Canadian\" or nationality[0] == \"American\":\n",
    "                nationality[0] = \"North American\"\n",
    "            elif nationality[0] == \"German\" or nationality[0] == \"Austrian\" or nationality[0] == \"Bohemian\":\n",
    "                nationality[0] = \"Austro-German\"\n",
    "            elif nationality[0] == \"Swedish\" or nationality[0] == \"Norwegian\" or nationality[0] == \"Finnish\":\n",
    "                nationality[0] = \"Nordic\"\n",
    "            elif nationality[0] == \"Belgian\":\n",
    "                nationality[0] = \"French\"\n",
    "                \n",
    "            df[\"nationality\"][i] = nationality[0]\n",
    "        \n",
    "        else:\n",
    "            na.append(composer)\n",
    "\n",
    "    else:\n",
    "        df[\"nationality\"][i] = \"NOT FOUND\"\n",
    "        not_found.append(composer)"
   ]
  },
  {
   "cell_type": "markdown",
   "metadata": {},
   "source": [
    "##### Manually inputing first 100 composers."
   ]
  },
  {
   "cell_type": "code",
   "execution_count": 5,
   "metadata": {},
   "outputs": [
    {
     "name": "stdout",
     "output_type": "stream",
     "text": [
      "The nationality of Mozart,  Wolfgang  Amadeus isAustro-German\n"
     ]
    },
    {
     "name": "stderr",
     "output_type": "stream",
     "text": [
      "/Users/rogerioshieh/anaconda3/lib/python3.7/site-packages/ipykernel_launcher.py:3: SettingWithCopyWarning: \n",
      "A value is trying to be set on a copy of a slice from a DataFrame\n",
      "\n",
      "See the caveats in the documentation: http://pandas.pydata.org/pandas-docs/stable/user_guide/indexing.html#returning-a-view-versus-a-copy\n",
      "  This is separate from the ipykernel package so we can avoid doing imports until\n"
     ]
    },
    {
     "name": "stdout",
     "output_type": "stream",
     "text": [
      "The nationality of Traditional, is\n",
      "The nationality of Anthem, is\n",
      "The nationality of Franck,  César isFrench\n",
      "The nationality of Humperdinck,  Engelbert isAustro-German\n"
     ]
    }
   ],
   "source": [
    "for i in range(100):\n",
    "    if not df['nationality'][i]:\n",
    "        df['nationality'][i] = input(f\"The nationality of {df.index[i]} is\")\n",
    "                                    "
   ]
  },
  {
   "cell_type": "markdown",
   "metadata": {},
   "source": [
    "#### Saving to file"
   ]
  },
  {
   "cell_type": "code",
   "execution_count": 6,
   "metadata": {},
   "outputs": [],
   "source": [
    "df.to_csv(path_to_data + \"comp_dates_nationality.csv\")\n",
    "\n",
    "f = open(path_to_data + \"not-available_nationality.txt\",\"w+\")\n",
    "\n",
    "for comp in na:\n",
    "    f.write(comp + \"\\n\")\n",
    "    \n",
    "f.close()"
   ]
  },
  {
   "cell_type": "code",
   "execution_count": null,
   "metadata": {},
   "outputs": [],
   "source": []
  }
 ],
 "metadata": {
  "kernelspec": {
   "display_name": "Python 3",
   "language": "python",
   "name": "python3"
  },
  "language_info": {
   "codemirror_mode": {
    "name": "ipython",
    "version": 3
   },
   "file_extension": ".py",
   "mimetype": "text/x-python",
   "name": "python",
   "nbconvert_exporter": "python",
   "pygments_lexer": "ipython3",
   "version": "3.7.3"
  }
 },
 "nbformat": 4,
 "nbformat_minor": 2
}
