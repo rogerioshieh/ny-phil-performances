{
 "cells": [
  {
   "cell_type": "code",
   "execution_count": 1,
   "metadata": {},
   "outputs": [],
   "source": [
    "import numpy as np\n",
    "import matplotlib.pyplot as plt\n",
    "import pandas as pd\n",
    "%matplotlib inline \n",
    "\n",
    "path_to_data = 'data/'\n",
    "w_df = pd.read_csv(path_to_data +'works_clean.csv')"
   ]
  },
  {
   "cell_type": "markdown",
   "metadata": {},
   "source": [
    "### Summary of questions:"
   ]
  },
  {
   "cell_type": "markdown",
   "metadata": {},
   "source": [
    "- Given a composer, find out...\n",
    "    - the percentage of performances over the years\n",
    "    - in which seasons the composer was most performed?\n",
    "<br>\n",
    "<br>\n",
    "- Who was the most performed composer...\n",
    "    - ... overall?\n",
    "    - ... in each season?\n",
    "    - ... in most seasons?\n",
    "<br>\n",
    "<br> \n",
    "- For each season... \n",
    "    - ... what is the percentage of living composers being performed?\n",
    "    - ... is Beethoven, Mozart, or Wagner the most performed composer?"
   ]
  },
  {
   "cell_type": "markdown",
   "metadata": {},
   "source": [
    "### Data format\n",
    "\n",
    "<em>works_clean.csv</em>: composerName,  workTitle, season, programID\n"
   ]
  },
  {
   "cell_type": "code",
   "execution_count": 2,
   "metadata": {},
   "outputs": [
    {
     "data": {
      "text/html": [
       "<div>\n",
       "<style scoped>\n",
       "    .dataframe tbody tr th:only-of-type {\n",
       "        vertical-align: middle;\n",
       "    }\n",
       "\n",
       "    .dataframe tbody tr th {\n",
       "        vertical-align: top;\n",
       "    }\n",
       "\n",
       "    .dataframe thead th {\n",
       "        text-align: right;\n",
       "    }\n",
       "</style>\n",
       "<table border=\"1\" class=\"dataframe\">\n",
       "  <thead>\n",
       "    <tr style=\"text-align: right;\">\n",
       "      <th></th>\n",
       "      <th>Unnamed: 0</th>\n",
       "      <th>composerName</th>\n",
       "      <th>workTitle</th>\n",
       "      <th>season</th>\n",
       "      <th>programID</th>\n",
       "    </tr>\n",
       "  </thead>\n",
       "  <tbody>\n",
       "    <tr>\n",
       "      <th>0</th>\n",
       "      <td>0</td>\n",
       "      <td>Beethoven,  Ludwig  van</td>\n",
       "      <td>SYMPHONY NO. 5 IN C MINOR, OP.67</td>\n",
       "      <td>1842-43</td>\n",
       "      <td>3853</td>\n",
       "    </tr>\n",
       "    <tr>\n",
       "      <th>1</th>\n",
       "      <td>1</td>\n",
       "      <td>Weber,  Carl  Maria Von</td>\n",
       "      <td>OBERON</td>\n",
       "      <td>1842-43</td>\n",
       "      <td>3853</td>\n",
       "    </tr>\n",
       "    <tr>\n",
       "      <th>2</th>\n",
       "      <td>2</td>\n",
       "      <td>Hummel,  Johann</td>\n",
       "      <td>QUINTET, PIANO, D MINOR, OP. 74</td>\n",
       "      <td>1842-43</td>\n",
       "      <td>3853</td>\n",
       "    </tr>\n",
       "    <tr>\n",
       "      <th>3</th>\n",
       "      <td>5</td>\n",
       "      <td>Rossini,  Gioachino</td>\n",
       "      <td>ARMIDA</td>\n",
       "      <td>1842-43</td>\n",
       "      <td>3853</td>\n",
       "    </tr>\n",
       "    <tr>\n",
       "      <th>4</th>\n",
       "      <td>6</td>\n",
       "      <td>Beethoven,  Ludwig  van</td>\n",
       "      <td>FIDELIO, OP. 72</td>\n",
       "      <td>1842-43</td>\n",
       "      <td>3853</td>\n",
       "    </tr>\n",
       "    <tr>\n",
       "      <th>5</th>\n",
       "      <td>7</td>\n",
       "      <td>Mozart,  Wolfgang  Amadeus</td>\n",
       "      <td>ABDUCTION FROM THE SERAGLIO,THE, K.384</td>\n",
       "      <td>1842-43</td>\n",
       "      <td>3853</td>\n",
       "    </tr>\n",
       "    <tr>\n",
       "      <th>6</th>\n",
       "      <td>8</td>\n",
       "      <td>Kalliwoda,  Johann  W.</td>\n",
       "      <td>OVERTURE NO. 1, D MINOR, OP. 38</td>\n",
       "      <td>1842-43</td>\n",
       "      <td>3853</td>\n",
       "    </tr>\n",
       "    <tr>\n",
       "      <th>7</th>\n",
       "      <td>9</td>\n",
       "      <td>Beethoven,  Ludwig  van</td>\n",
       "      <td>SYMPHONY NO. 3 IN E FLAT MAJOR, OP. 55 (EROICA)</td>\n",
       "      <td>1842-43</td>\n",
       "      <td>5178</td>\n",
       "    </tr>\n",
       "    <tr>\n",
       "      <th>8</th>\n",
       "      <td>10</td>\n",
       "      <td>Bellini,  Vincenzo</td>\n",
       "      <td>I PURITANI</td>\n",
       "      <td>1842-43</td>\n",
       "      <td>5178</td>\n",
       "    </tr>\n",
       "    <tr>\n",
       "      <th>9</th>\n",
       "      <td>11</td>\n",
       "      <td>Romberg,  Bernhard</td>\n",
       "      <td>CELEBRATED ELEGIE</td>\n",
       "      <td>1842-43</td>\n",
       "      <td>5178</td>\n",
       "    </tr>\n",
       "  </tbody>\n",
       "</table>\n",
       "</div>"
      ],
      "text/plain": [
       "   Unnamed: 0                composerName  \\\n",
       "0           0     Beethoven,  Ludwig  van   \n",
       "1           1     Weber,  Carl  Maria Von   \n",
       "2           2             Hummel,  Johann   \n",
       "3           5         Rossini,  Gioachino   \n",
       "4           6     Beethoven,  Ludwig  van   \n",
       "5           7  Mozart,  Wolfgang  Amadeus   \n",
       "6           8      Kalliwoda,  Johann  W.   \n",
       "7           9     Beethoven,  Ludwig  van   \n",
       "8          10          Bellini,  Vincenzo   \n",
       "9          11          Romberg,  Bernhard   \n",
       "\n",
       "                                         workTitle   season  programID  \n",
       "0                 SYMPHONY NO. 5 IN C MINOR, OP.67  1842-43       3853  \n",
       "1                                           OBERON  1842-43       3853  \n",
       "2                  QUINTET, PIANO, D MINOR, OP. 74  1842-43       3853  \n",
       "3                                           ARMIDA  1842-43       3853  \n",
       "4                                  FIDELIO, OP. 72  1842-43       3853  \n",
       "5           ABDUCTION FROM THE SERAGLIO,THE, K.384  1842-43       3853  \n",
       "6                  OVERTURE NO. 1, D MINOR, OP. 38  1842-43       3853  \n",
       "7  SYMPHONY NO. 3 IN E FLAT MAJOR, OP. 55 (EROICA)  1842-43       5178  \n",
       "8                                       I PURITANI  1842-43       5178  \n",
       "9                                CELEBRATED ELEGIE  1842-43       5178  "
      ]
     },
     "execution_count": 2,
     "metadata": {},
     "output_type": "execute_result"
    }
   ],
   "source": [
    "w_df[:10]"
   ]
  },
  {
   "cell_type": "markdown",
   "metadata": {},
   "source": [
    "## 1) Given a composer, find out..."
   ]
  },
  {
   "cell_type": "code",
   "execution_count": 3,
   "metadata": {},
   "outputs": [],
   "source": [
    "composer = 'Berlioz' #just the last name"
   ]
  },
  {
   "cell_type": "markdown",
   "metadata": {},
   "source": [
    "#### ...the percentage of performances over the years?"
   ]
  },
  {
   "cell_type": "code",
   "execution_count": 4,
   "metadata": {},
   "outputs": [],
   "source": [
    "seasons = w_df['season'].value_counts().index.tolist()\n",
    "seasons.sort() #list of all seasons\n",
    "\n",
    "percentage_list = []\n",
    "percentage_dict = {}\n",
    "seasons_float = []\n",
    "\n",
    "for i in range(len(seasons)):\n",
    "    #New DataFrame with just the rows containing season XXXX\n",
    "    df_season = w_df[w_df.season == seasons[i]]\n",
    "    total_concerts = df_season.shape[0]\n",
    "    total_composer = df_season['composerName'].str.count(composer).sum()\n",
    "    percentage = total_composer / total_concerts\n",
    "    percentage_list.append(percentage)\n",
    "    percentage_dict[float(seasons[i][:4])] = percentage\n",
    "    seasons_float.append(float(seasons[i][:4]))\n",
    "    \n",
    "seasons_float = np.asarray(seasons_float) #useful for plotting"
   ]
  },
  {
   "cell_type": "code",
   "execution_count": 5,
   "metadata": {},
   "outputs": [
    {
     "data": {
      "image/png": "[encoded data removed]",
      "text/plain": [
       "<Figure size 432x288 with 1 Axes>"
      ]
     },
     "metadata": {
      "needs_background": "light"
     },
     "output_type": "display_data"
    }
   ],
   "source": [
    "plt.plot(seasons_float, percentage_list,'bo')\n",
    "plt.title(\"Performances by {} at NY Phil concerts\".format(composer))\n",
    "plt.ylabel(\"Percentage\")\n",
    "plt.xlabel(\"Years\")\n",
    "x, y = seasons_float, percentage_list\n",
    "\n",
    "plt.rcParams[\"figure.figsize\"] = (30, 9) # (w, h)\n",
    "plt.plot(x,y,'r-')\n",
    "plt.savefig(path_to_data + \"/graphs/\" + composer + \".png\")"
   ]
  },
  {
   "cell_type": "markdown",
   "metadata": {},
   "source": [
    "##### (optional)\n",
    "\n",
    "Save to file for sonification."
   ]
  },
  {
   "cell_type": "code",
   "execution_count": 7,
   "metadata": {},
   "outputs": [],
   "source": [
    "d = dict()\n",
    "\n",
    "for i in range(len(percentage_list)):\n",
    "    d[seasons[i]] = percentage_list[i]\n",
    "\n",
    "comp_df = pd.DataFrame.from_dict(d, orient='index')\n",
    "\n",
    "comp_df.to_csv('data/to_sonify/' + composer + '.csv')"
   ]
  },
  {
   "cell_type": "markdown",
   "metadata": {},
   "source": [
    "#### ...in which seasons the composer was most performed?"
   ]
  },
  {
   "cell_type": "code",
   "execution_count": 8,
   "metadata": {},
   "outputs": [
    {
     "data": {
      "text/plain": [
       "[(1880.0, 0.1),\n",
       " (1881.0, 0.0784313725490196),\n",
       " (1865.0, 0.07142857142857142),\n",
       " (1864.0, 0.06896551724137931),\n",
       " (1968.0, 0.06647398843930635),\n",
       " (1866.0, 0.058823529411764705),\n",
       " (1883.0, 0.05660377358490566),\n",
       " (1874.0, 0.05263157894736842),\n",
       " (1878.0, 0.05154639175257732),\n",
       " (1973.0, 0.05128205128205128),\n",
       " (1890.0, 0.05128205128205128),\n",
       " (1903.0, 0.05025125628140704),\n",
       " (1884.0, 0.05),\n",
       " (1876.0, 0.05),\n",
       " (1902.0, 0.04878048780487805),\n",
       " (1894.0, 0.046153846153846156),\n",
       " (1887.0, 0.046153846153846156),\n",
       " (1909.0, 0.046052631578947366),\n",
       " (1846.0, 0.041666666666666664),\n",
       " (1967.0, 0.04028436018957346),\n",
       " (1886.0, 0.04),\n",
       " (1877.0, 0.04),\n",
       " (1855.0, 0.037037037037037035),\n",
       " (2003.0, 0.0367816091954023),\n",
       " (1958.0, 0.0364963503649635),\n",
       " (1960.0, 0.03600654664484452),\n",
       " (1959.0, 0.03571428571428571),\n",
       " (1853.0, 0.03571428571428571),\n",
       " (1872.0, 0.034482758620689655),\n",
       " (2016.0, 0.0340632603406326),\n",
       " (1885.0, 0.03333333333333333),\n",
       " (1868.0, 0.03225806451612903),\n",
       " (1869.0, 0.030303030303030304),\n",
       " (1861.0, 0.030303030303030304),\n",
       " (1845.0, 0.030303030303030304),\n",
       " (1879.0, 0.029850746268656716),\n",
       " (1950.0, 0.02872531418312388),\n",
       " (1939.0, 0.028064992614475627),\n",
       " (1907.0, 0.027777777777777776),\n",
       " (1870.0, 0.027777777777777776),\n",
       " (1862.0, 0.027777777777777776),\n",
       " (1898.0, 0.0273972602739726),\n",
       " (1952.0, 0.02689075630252101),\n",
       " (2008.0, 0.026755852842809364),\n",
       " (1891.0, 0.02666666666666667),\n",
       " (1953.0, 0.0265625),\n",
       " (1914.0, 0.02631578947368421),\n",
       " (1964.0, 0.02610966057441253),\n",
       " (1929.0, 0.02571041948579161),\n",
       " (1926.0, 0.025547445255474453),\n",
       " (1974.0, 0.02518891687657431),\n",
       " (1972.0, 0.025069637883008356),\n",
       " (1970.0, 0.02491103202846975),\n",
       " (1905.0, 0.024242424242424242),\n",
       " (1986.0, 0.024096385542168676),\n",
       " (2011.0, 0.023931623931623933),\n",
       " (1954.0, 0.023809523809523808),\n",
       " (1904.0, 0.023696682464454975),\n",
       " (1937.0, 0.023494860499265784),\n",
       " (2005.0, 0.02304964539007092),\n",
       " (1915.0, 0.02244668911335578),\n",
       " (1971.0, 0.022222222222222223),\n",
       " (1951.0, 0.022099447513812154),\n",
       " (1922.0, 0.021601016518424398),\n",
       " (1938.0, 0.02158273381294964),\n",
       " (1913.0, 0.02154398563734291),\n",
       " (1911.0, 0.020316027088036117),\n",
       " (1928.0, 0.02023121387283237),\n",
       " (1942.0, 0.020186335403726708),\n",
       " (1962.0, 0.019867549668874173),\n",
       " (1924.0, 0.01985981308411215),\n",
       " (1979.0, 0.019230769230769232),\n",
       " (1860.0, 0.019230769230769232),\n",
       " (1906.0, 0.01910828025477707),\n",
       " (1966.0, 0.01904761904761905),\n",
       " (1930.0, 0.01901743264659271),\n",
       " (1947.0, 0.018867924528301886),\n",
       " (1882.0, 0.018518518518518517),\n",
       " (1980.0, 0.018461538461538463),\n",
       " (1918.0, 0.018209408194233688),\n",
       " (1961.0, 0.017632241813602016),\n",
       " (1963.0, 0.017543859649122806),\n",
       " (1917.0, 0.017123287671232876),\n",
       " (1936.0, 0.017094017094017096),\n",
       " (1923.0, 0.01653944020356234),\n",
       " (1955.0, 0.016296296296296295),\n",
       " (1965.0, 0.015957446808510637),\n",
       " (1889.0, 0.015873015873015872),\n",
       " (1893.0, 0.015625),\n",
       " (1941.0, 0.015332197614991482),\n",
       " (1989.0, 0.01529051987767584),\n",
       " (1977.0, 0.015184381778741865),\n",
       " (1944.0, 0.015130674002751032),\n",
       " (1888.0, 0.014492753623188406),\n",
       " (1988.0, 0.014285714285714285),\n",
       " (1912.0, 0.01417004048582996),\n",
       " (1948.0, 0.013966480446927373),\n",
       " (1933.0, 0.013916500994035786),\n",
       " (1931.0, 0.013910355486862442),\n",
       " (2006.0, 0.013888888888888888),\n",
       " (1927.0, 0.0136986301369863),\n",
       " (1996.0, 0.01348314606741573),\n",
       " (1949.0, 0.01340033500837521),\n",
       " (1956.0, 0.012987012987012988),\n",
       " (1976.0, 0.012953367875647668),\n",
       " (1993.0, 0.012944983818770227),\n",
       " (1892.0, 0.01282051282051282),\n",
       " (1934.0, 0.01276595744680851),\n",
       " (1896.0, 0.012578616352201259),\n",
       " (1969.0, 0.012422360248447204),\n",
       " (1992.0, 0.012232415902140673),\n",
       " (1921.0, 0.011320754716981131),\n",
       " (1919.0, 0.010752688172043012),\n",
       " (1900.0, 0.010741138560687433),\n",
       " (2001.0, 0.010498687664041995),\n",
       " (1981.0, 0.010443864229765013),\n",
       " (1908.0, 0.01020408163265306),\n",
       " (2000.0, 0.009345794392523364),\n",
       " (1994.0, 0.009316770186335404),\n",
       " (1932.0, 0.009244992295839754),\n",
       " (1985.0, 0.00911854103343465),\n",
       " (1987.0, 0.008379888268156424),\n",
       " (1945.0, 0.00821917808219178),\n",
       " (1990.0, 0.008174386920980926),\n",
       " (1984.0, 0.00796812749003984),\n",
       " (1925.0, 0.007614213197969543),\n",
       " (1946.0, 0.0076045627376425855),\n",
       " (1943.0, 0.00725689404934688),\n",
       " (1975.0, 0.007194244604316547),\n",
       " (1997.0, 0.006993006993006993),\n",
       " (2009.0, 0.005706134094151213),\n",
       " (1920.0, 0.005698005698005698),\n",
       " (1940.0, 0.005649717514124294),\n",
       " (1910.0, 0.00558659217877095),\n",
       " (1935.0, 0.005415162454873646),\n",
       " (2012.0, 0.005385996409335727),\n",
       " (1957.0, 0.00516795865633075),\n",
       " (2014.0, 0.005016722408026756),\n",
       " (2007.0, 0.004846526655896607),\n",
       " (1991.0, 0.0043859649122807015),\n",
       " (2002.0, 0.004158004158004158),\n",
       " (1995.0, 0.002617801047120419),\n",
       " (1998.0, 0.0025252525252525255),\n",
       " (1978.0, 0.0025),\n",
       " (2004.0, 0.002232142857142857),\n",
       " (2010.0, 0.0017094017094017094),\n",
       " (1916.0, 0.001567398119122257),\n",
       " (2015.0, 0.0013513513513513514),\n",
       " (2013.0, 0.0),\n",
       " (1999.0, 0.0),\n",
       " (1983.0, 0.0),\n",
       " (1982.0, 0.0),\n",
       " (1901.0, 0.0),\n",
       " (1899.0, 0.0),\n",
       " (1897.0, 0.0),\n",
       " (1895.0, 0.0),\n",
       " (1875.0, 0.0),\n",
       " (1873.0, 0.0),\n",
       " (1871.0, 0.0),\n",
       " (1867.0, 0.0),\n",
       " (1863.0, 0.0),\n",
       " (1859.0, 0.0),\n",
       " (1858.0, 0.0),\n",
       " (1857.0, 0.0),\n",
       " (1856.0, 0.0),\n",
       " (1854.0, 0.0),\n",
       " (1852.0, 0.0),\n",
       " (1851.0, 0.0),\n",
       " (1850.0, 0.0),\n",
       " (1849.0, 0.0),\n",
       " (1848.0, 0.0),\n",
       " (1847.0, 0.0),\n",
       " (1844.0, 0.0),\n",
       " (1843.0, 0.0),\n",
       " (1842.0, 0.0)]"
      ]
     },
     "execution_count": 8,
     "metadata": {},
     "output_type": "execute_result"
    }
   ],
   "source": [
    "sorted_dict_percentage = sorted(percentage_dict.items(), key=lambda kv: kv[1])\n",
    "\n",
    "sorted_dict_percentage.reverse()\n",
    "\n",
    "sorted_dict_percentage"
   ]
  },
  {
   "cell_type": "markdown",
   "metadata": {},
   "source": [
    "## 2) Who was the most performed composer..."
   ]
  },
  {
   "cell_type": "markdown",
   "metadata": {},
   "source": [
    "#### ... overall?"
   ]
  },
  {
   "cell_type": "code",
   "execution_count": 9,
   "metadata": {},
   "outputs": [
    {
     "data": {
      "text/plain": [
       "Beethoven,  Ludwig  van        4349\n",
       "Wagner,  Richard               3967\n",
       "Tchaikovsky,  Pyotr  Ilyich    3185\n",
       "Mozart,  Wolfgang  Amadeus     2546\n",
       "Brahms,  Johannes              2399\n",
       "Strauss,  Richard              1528\n",
       "Bach,  Johann  Sebastian       1298\n",
       "Mendelssohn,  Felix            1243\n",
       "Dvorak,  Antonín               1193\n",
       "Schubert,  Franz               1089\n",
       "Ravel,  Maurice                1055\n",
       "Berlioz,  Hector               1047\n",
       "Liszt,  Franz                   993\n",
       "Traditional,                    947\n",
       "Stravinsky,  Igor               939\n",
       "Debussy,  Claude                919\n",
       "Weber,  Carl  Maria Von         901\n",
       "Schumann,  Robert               869\n",
       "Strauss,  Johann, II            865\n",
       "Haydn,  Franz  Joseph           762\n",
       "Name: composerName, dtype: int64"
      ]
     },
     "execution_count": 9,
     "metadata": {},
     "output_type": "execute_result"
    }
   ],
   "source": [
    "w_df.composerName.value_counts()[:20]"
   ]
  },
  {
   "cell_type": "markdown",
   "metadata": {},
   "source": [
    "##### ... in each season?"
   ]
  },
  {
   "cell_type": "code",
   "execution_count": 10,
   "metadata": {},
   "outputs": [
    {
     "data": {
      "text/plain": [
       "{'1842': 'Beethoven,  Ludwig  van',\n",
       " '1843': 'Weber,  Carl  Maria Von',\n",
       " '1844': 'Donizetti,  Gaetano',\n",
       " '1845': 'Mendelssohn,  Felix',\n",
       " '1846': 'Beethoven,  Ludwig  van',\n",
       " '1847': 'Mendelssohn,  Felix',\n",
       " '1848': 'Weber,  Carl  Maria Von',\n",
       " '1849': 'Mendelssohn,  Felix',\n",
       " '1850': 'Mendelssohn,  Felix',\n",
       " '1851': 'Mendelssohn,  Felix',\n",
       " '1852': 'Mendelssohn,  Felix',\n",
       " '1853': 'Spohr,  Louis',\n",
       " '1854': 'Beethoven,  Ludwig  van',\n",
       " '1855': 'Mendelssohn,  Felix',\n",
       " '1856': 'Beethoven,  Ludwig  van',\n",
       " '1857': 'Mozart,  Wolfgang  Amadeus',\n",
       " '1858': 'Beethoven,  Ludwig  van',\n",
       " '1859': 'Beethoven,  Ludwig  van',\n",
       " '1860': 'Schumann,  Robert',\n",
       " '1861': 'Beethoven,  Ludwig  van',\n",
       " '1862': 'Beethoven,  Ludwig  van',\n",
       " '1863': 'Beethoven,  Ludwig  van',\n",
       " '1864': 'Beethoven,  Ludwig  van',\n",
       " '1865': 'Mendelssohn,  Felix',\n",
       " '1866': 'Mozart,  Wolfgang  Amadeus',\n",
       " '1867': 'Mendelssohn,  Felix',\n",
       " '1868': 'Beethoven,  Ludwig  van',\n",
       " '1869': 'Beethoven,  Ludwig  van',\n",
       " '1870': 'Beethoven,  Ludwig  van',\n",
       " '1871': 'Beethoven,  Ludwig  van',\n",
       " '1872': 'Beethoven,  Ludwig  van',\n",
       " '1873': 'Beethoven,  Ludwig  van',\n",
       " '1874': 'Schumann,  Robert',\n",
       " '1875': 'Beethoven,  Ludwig  van',\n",
       " '1876': 'Beethoven,  Ludwig  van',\n",
       " '1877': 'Beethoven,  Ludwig  van',\n",
       " '1878': 'Beethoven,  Ludwig  van',\n",
       " '1879': 'Beethoven,  Ludwig  van',\n",
       " '1880': 'Beethoven,  Ludwig  van',\n",
       " '1881': 'Beethoven,  Ludwig  van',\n",
       " '1882': 'Wagner,  Richard',\n",
       " '1883': 'Beethoven,  Ludwig  van',\n",
       " '1884': 'Beethoven,  Ludwig  van',\n",
       " '1885': 'Beethoven,  Ludwig  van',\n",
       " '1886': 'Beethoven,  Ludwig  van',\n",
       " '1887': 'Beethoven,  Ludwig  van',\n",
       " '1888': 'Beethoven,  Ludwig  van',\n",
       " '1889': 'Beethoven,  Ludwig  van',\n",
       " '1890': 'Tchaikovsky,  Pyotr  Ilyich',\n",
       " '1891': 'Beethoven,  Ludwig  van',\n",
       " '1892': 'Wagner,  Richard',\n",
       " '1893': 'Tchaikovsky,  Pyotr  Ilyich',\n",
       " '1894': 'Wagner,  Richard',\n",
       " '1895': 'Wagner,  Richard',\n",
       " '1896': 'Wagner,  Richard',\n",
       " '1897': 'Wagner,  Richard',\n",
       " '1898': 'Schumann,  Robert',\n",
       " '1899': 'Wagner,  Richard',\n",
       " '1900': 'Wagner,  Richard',\n",
       " '1901': 'Beethoven,  Ludwig  van',\n",
       " '1902': 'Pirani,  Eugenio  di',\n",
       " '1903': 'Wagner,  Richard',\n",
       " '1904': 'Beethoven,  Ludwig  van',\n",
       " '1905': 'Wagner,  Richard',\n",
       " '1906': 'Wagner,  Richard',\n",
       " '1907': 'Beethoven,  Ludwig  van',\n",
       " '1908': 'Tchaikovsky,  Pyotr  Ilyich',\n",
       " '1909': 'Wagner,  Richard',\n",
       " '1910': 'Wagner,  Richard',\n",
       " '1911': 'Wagner,  Richard',\n",
       " '1912': 'Wagner,  Richard',\n",
       " '1913': 'Wagner,  Richard',\n",
       " '1914': 'Wagner,  Richard',\n",
       " '1915': 'Wagner,  Richard',\n",
       " '1916': 'Wagner,  Richard',\n",
       " '1917': 'Wagner,  Richard',\n",
       " '1918': 'Anthem,',\n",
       " '1919': 'Wagner,  Richard',\n",
       " '1920': 'Wagner,  Richard',\n",
       " '1921': 'Wagner,  Richard',\n",
       " '1922': 'Wagner,  Richard',\n",
       " '1923': 'Wagner,  Richard',\n",
       " '1924': 'Wagner,  Richard',\n",
       " '1925': 'Wagner,  Richard',\n",
       " '1926': 'Wagner,  Richard',\n",
       " '1927': 'Wagner,  Richard',\n",
       " '1928': 'Wagner,  Richard',\n",
       " '1929': 'Wagner,  Richard',\n",
       " '1930': 'Wagner,  Richard',\n",
       " '1931': 'Wagner,  Richard',\n",
       " '1932': 'Wagner,  Richard',\n",
       " '1933': 'Beethoven,  Ludwig  van',\n",
       " '1934': 'Wagner,  Richard',\n",
       " '1935': 'Beethoven,  Ludwig  van',\n",
       " '1936': 'Wagner,  Richard',\n",
       " '1937': 'Wagner,  Richard',\n",
       " '1938': 'Beethoven,  Ludwig  van',\n",
       " '1939': 'Beethoven,  Ludwig  van',\n",
       " '1940': 'Wagner,  Richard',\n",
       " '1941': 'Beethoven,  Ludwig  van',\n",
       " '1942': 'Beethoven,  Ludwig  van',\n",
       " '1943': 'Beethoven,  Ludwig  van',\n",
       " '1944': 'Beethoven,  Ludwig  van',\n",
       " '1945': 'Tchaikovsky,  Pyotr  Ilyich',\n",
       " '1946': 'Wagner,  Richard',\n",
       " '1947': 'Beethoven,  Ludwig  van',\n",
       " '1948': 'Beethoven,  Ludwig  van',\n",
       " '1949': 'Beethoven,  Ludwig  van',\n",
       " '1950': 'Beethoven,  Ludwig  van',\n",
       " '1951': 'Beethoven,  Ludwig  van',\n",
       " '1952': 'Beethoven,  Ludwig  van',\n",
       " '1953': 'Beethoven,  Ludwig  van',\n",
       " '1954': 'Brahms,  Johannes',\n",
       " '1955': 'Mozart,  Wolfgang  Amadeus',\n",
       " '1956': 'Beethoven,  Ludwig  van',\n",
       " '1957': 'Anthem,',\n",
       " '1958': 'Beethoven,  Ludwig  van',\n",
       " '1959': 'Beethoven,  Ludwig  van',\n",
       " '1960': 'Beethoven,  Ludwig  van',\n",
       " '1961': 'Tchaikovsky,  Pyotr  Ilyich',\n",
       " '1962': 'Beethoven,  Ludwig  van',\n",
       " '1963': 'Beethoven,  Ludwig  van',\n",
       " '1964': 'Tchaikovsky,  Pyotr  Ilyich',\n",
       " '1965': 'Mozart,  Wolfgang  Amadeus',\n",
       " '1966': 'Beethoven,  Ludwig  van',\n",
       " '1967': 'Beethoven,  Ludwig  van',\n",
       " '1968': 'Berlioz,  Hector',\n",
       " '1969': 'Mozart,  Wolfgang  Amadeus',\n",
       " '1970': 'Beethoven,  Ludwig  van',\n",
       " '1971': 'Liszt,  Franz',\n",
       " '1972': 'Stravinsky,  Igor',\n",
       " '1973': 'Mozart,  Wolfgang  Amadeus',\n",
       " '1974': 'Stravinsky,  Igor',\n",
       " '1975': 'Gershwin,  George',\n",
       " '1976': 'Stravinsky,  Igor',\n",
       " '1977': 'Beethoven,  Ludwig  van',\n",
       " '1978': 'Schubert,  Franz',\n",
       " '1979': 'Beethoven,  Ludwig  van',\n",
       " '1980': 'Mozart,  Wolfgang  Amadeus',\n",
       " '1981': 'Mozart,  Wolfgang  Amadeus',\n",
       " '1982': 'Mozart,  Wolfgang  Amadeus',\n",
       " '1983': 'Beethoven,  Ludwig  van',\n",
       " '1984': 'Dvorak,  Antonín',\n",
       " '1985': 'Copland,  Aaron',\n",
       " '1986': 'Mozart,  Wolfgang  Amadeus',\n",
       " '1987': 'Strauss,  Johann, II',\n",
       " '1988': 'Brahms,  Johannes',\n",
       " '1989': 'Beethoven,  Ludwig  van',\n",
       " '1990': 'Mozart,  Wolfgang  Amadeus',\n",
       " '1991': 'Mozart,  Wolfgang  Amadeus',\n",
       " '1992': 'Brahms,  Johannes',\n",
       " '1993': 'Beethoven,  Ludwig  van',\n",
       " '1994': 'Tchaikovsky,  Pyotr  Ilyich',\n",
       " '1995': 'Beethoven,  Ludwig  van',\n",
       " '1996': 'Tchaikovsky,  Pyotr  Ilyich',\n",
       " '1997': 'Ravel,  Maurice',\n",
       " '1998': 'Beethoven,  Ludwig  van',\n",
       " '1999': 'Copland,  Aaron',\n",
       " '2000': 'Strauss,  Richard',\n",
       " '2001': 'Beethoven,  Ludwig  van',\n",
       " '2002': 'Beethoven,  Ludwig  van',\n",
       " '2003': 'Beethoven,  Ludwig  van',\n",
       " '2004': 'Dvorak,  Antonín',\n",
       " '2005': 'Mozart,  Wolfgang  Amadeus',\n",
       " '2006': 'Brahms,  Johannes',\n",
       " '2007': 'Tchaikovsky,  Pyotr  Ilyich',\n",
       " '2008': 'Brahms,  Johannes',\n",
       " '2009': 'Stravinsky,  Igor',\n",
       " '2010': 'Beethoven,  Ludwig  van',\n",
       " '2011': 'Tchaikovsky,  Pyotr  Ilyich',\n",
       " '2012': 'Tchaikovsky,  Pyotr  Ilyich',\n",
       " '2013': 'Tchaikovsky,  Pyotr  Ilyich',\n",
       " '2014': 'Mozart,  Wolfgang  Amadeus',\n",
       " '2015': 'Sibelius,  Jean',\n",
       " '2016': 'Dvorak,  Antonín'}"
      ]
     },
     "execution_count": 10,
     "metadata": {},
     "output_type": "execute_result"
    }
   ],
   "source": [
    "seasons = w_df['season'].value_counts().index.tolist()\n",
    "seasons.sort()\n",
    "\n",
    "most_perf_by_season = {} #year: composer\n",
    "\n",
    "for i in range(len(seasons)):\n",
    "    #New DataFrame with just the rows containing season XXXX\n",
    "    df_season = w_df[w_df.season == seasons[i]]\n",
    "    most_perf_by_season[seasons[i][:-3]] = df_season.composerName.value_counts().index[0]\n",
    "    \n",
    "most_perf_by_season"
   ]
  },
  {
   "cell_type": "markdown",
   "metadata": {},
   "source": [
    "##### ... in most seasons?"
   ]
  },
  {
   "cell_type": "code",
   "execution_count": 11,
   "metadata": {},
   "outputs": [
    {
     "data": {
      "text/plain": [
       "<bound method Counter.most_common of Counter({'Beethoven,  Ludwig  van': 69, 'Wagner,  Richard': 39, 'Mozart,  Wolfgang  Amadeus': 14, 'Tchaikovsky,  Pyotr  Ilyich': 12, 'Mendelssohn,  Felix': 9, 'Brahms,  Johannes': 5, 'Stravinsky,  Igor': 4, 'Schumann,  Robert': 3, 'Dvorak,  Antonín': 3, 'Weber,  Carl  Maria Von': 2, 'Anthem,': 2, 'Copland,  Aaron': 2, 'Donizetti,  Gaetano': 1, 'Spohr,  Louis': 1, 'Pirani,  Eugenio  di': 1, 'Berlioz,  Hector': 1, 'Liszt,  Franz': 1, 'Gershwin,  George': 1, 'Schubert,  Franz': 1, 'Strauss,  Johann, II': 1, 'Ravel,  Maurice': 1, 'Strauss,  Richard': 1, 'Sibelius,  Jean': 1})>"
      ]
     },
     "execution_count": 11,
     "metadata": {},
     "output_type": "execute_result"
    }
   ],
   "source": [
    "from collections import Counter\n",
    "\n",
    "x = Counter(most_perf_by_season.values())\n",
    "\n",
    "x.most_common"
   ]
  },
  {
   "cell_type": "markdown",
   "metadata": {},
   "source": [
    "## 3) For each season..."
   ]
  },
  {
   "cell_type": "markdown",
   "metadata": {},
   "source": [
    "#### ... what was the percentage of living composers being performed?"
   ]
  },
  {
   "cell_type": "code",
   "execution_count": 12,
   "metadata": {},
   "outputs": [],
   "source": [
    "living_df = pd.read_csv('data/works_composer_living.csv')"
   ]
  },
  {
   "cell_type": "code",
   "execution_count": 13,
   "metadata": {},
   "outputs": [],
   "source": [
    "seasons = w_df['season'].value_counts().index.tolist()\n",
    "seasons.sort() #list of all seasons\n",
    "\n",
    "dict_living = {}\n",
    "\n",
    "for i in range(len(seasons)):\n",
    "    df_season = living_df[w_df.season == seasons[i]]\n",
    "    is_living = df_season.living.value_counts()\n",
    "    \n",
    "    dict_living[int(seasons[i][:4])] = (is_living['Y'], is_living['N'], len(df_season) - is_living['Y'] - is_living['N'])\n",
    "\n",
    "list_alive = [v for v in dict_living.values()]\n",
    "percentages_alive = []\n",
    "\n",
    "for season in list_alive:\n",
    "    percentages_alive.append(season[0] / (season[0] + season[1]) * 100)"
   ]
  },
  {
   "cell_type": "code",
   "execution_count": 14,
   "metadata": {},
   "outputs": [
    {
     "name": "stdout",
     "output_type": "stream",
     "text": [
      "Unknown: 3045\n",
      "Total performances: 63185\n",
      "Percentage of unknown: 4.819181767824642\n"
     ]
    }
   ],
   "source": [
    "# How many performances do we not know if the composer was alive?\n",
    "unknown = 0\n",
    "total = len(living_df)\n",
    "\n",
    "for k, v in dict_living.items():\n",
    "    unknown += v[2]\n",
    "    \n",
    "print(\"Unknown: \" + str(unknown))\n",
    "print(\"Total performances: \" + str(len(living_df)))\n",
    "print(\"Percentage of unknown: \" + str(unknown * 100 / len(living_df)))"
   ]
  },
  {
   "cell_type": "code",
   "execution_count": 15,
   "metadata": {},
   "outputs": [
    {
     "data": {
      "image/png": "[encoded data removed]",
      "text/plain": [
       "<Figure size 2160x648 with 1 Axes>"
      ]
     },
     "metadata": {
      "needs_background": "light"
     },
     "output_type": "display_data"
    }
   ],
   "source": [
    "plt.plot(seasons_float, percentages_alive,'bo')\n",
    "\n",
    "x, y = seasons_float, percentages_alive\n",
    "\n",
    "plt.rcParams[\"figure.figsize\"] = (30, 9) # (w, h)\n",
    "plt.title(\"Percentage of alive composers being performed at NY Phil\")\n",
    "plt.plot(x,y,'r-')\n",
    "plt.savefig(\"data/graphs/alive.png\")"
   ]
  },
  {
   "cell_type": "markdown",
   "metadata": {},
   "source": [
    "##### Write to file for sonification"
   ]
  },
  {
   "cell_type": "code",
   "execution_count": 16,
   "metadata": {},
   "outputs": [],
   "source": [
    "to_file = dict()\n",
    "\n",
    "for k,v in dict_living.items():\n",
    "    \n",
    "    to_file[k] = (v[0] / (v[0] + v[1]) )\n",
    "\n",
    "to_file_df = pd.DataFrame.from_dict(to_file, orient='index')\n",
    "\n",
    "to_file_df.to_csv('data/to_sonify/alive.csv')"
   ]
  },
  {
   "cell_type": "markdown",
   "metadata": {},
   "source": [
    "#### ... is either Beethoven, Wagner, or Mozart the most performed composer?"
   ]
  },
  {
   "cell_type": "markdown",
   "metadata": {},
   "source": [
    "<em>1: Beethoven\n",
    "0.5: Wagner\n",
    "1.5: Mozart</em>\n",
    "\n",
    "These numbers will be used for sonification and have an acustic significance."
   ]
  },
  {
   "cell_type": "code",
   "execution_count": 17,
   "metadata": {},
   "outputs": [],
   "source": [
    "seasons = w_df['season'].value_counts().index.tolist()\n",
    "seasons.sort() #list of all seasons"
   ]
  },
  {
   "cell_type": "code",
   "execution_count": 18,
   "metadata": {},
   "outputs": [],
   "source": [
    "dict_BorW = {}\n",
    "\n",
    "for i in range(len(seasons)):\n",
    "    df_season = w_df[w_df.season == seasons[i]]\n",
    "    comp = df_season.composerName.value_counts().index[0]\n",
    "\n",
    "    if comp == 'Beethoven,  Ludwig  van':\n",
    "        dict_BorW[int(seasons[i][:4])] = 1\n",
    "    elif comp == 'Wagner,  Richard':\n",
    "        dict_BorW[int(seasons[i][:4])] = 0.5\n",
    "    elif comp == 'Mozart,  Wolfgang  Amadeus':\n",
    "        dict_BorW[int(seasons[i][:4])] = 1.5\n",
    "    else:\n",
    "        dict_BorW[int(seasons[i][:4])] = 0\n",
    "\n",
    "list_BW = [v for v in dict_BorW.values()]      "
   ]
  },
  {
   "cell_type": "code",
   "execution_count": 19,
   "metadata": {},
   "outputs": [],
   "source": [
    "#write to file. Rows = years, columns = percentage\n",
    "\n",
    "dict_comp_df = pd.DataFrame.from_dict(dict_BorW, orient='index')\n",
    "\n",
    "dict_comp_df.to_csv('data/to_sonify/BWM.csv')"
   ]
  },
  {
   "cell_type": "code",
   "execution_count": null,
   "metadata": {},
   "outputs": [],
   "source": []
  }
 ],
 "metadata": {
  "kernelspec": {
   "display_name": "Python 3",
   "language": "python",
   "name": "python3"
  },
  "language_info": {
   "codemirror_mode": {
    "name": "ipython",
    "version": 3
   },
   "file_extension": ".py",
   "mimetype": "text/x-python",
   "name": "python",
   "nbconvert_exporter": "python",
   "pygments_lexer": "ipython3",
   "version": "3.7.3"
  }
 },
 "nbformat": 4,
 "nbformat_minor": 2
}
