{
 "cells": [
  {
   "cell_type": "markdown",
   "metadata": {},
   "source": [
    "### Creates a csv file containing whether a composer was alive for each work by him/her."
   ]
  },
  {
   "cell_type": "code",
   "execution_count": 1,
   "metadata": {},
   "outputs": [],
   "source": [
    "import math\n",
    "import numpy as np\n",
    "import pandas as pd\n",
    "\n",
    "path_to_data = 'data/'\n",
    "w_df = pd.read_csv(path_to_data + 'works_clean.csv')\n",
    "c_df = pd.read_csv(path_to_data + 'comp_dates.csv')"
   ]
  },
  {
   "cell_type": "markdown",
   "metadata": {},
   "source": [
    "#### Pre-processing"
   ]
  },
  {
   "cell_type": "code",
   "execution_count": 2,
   "metadata": {},
   "outputs": [],
   "source": [
    "w_df = w_df.drop(columns=[\"Unnamed: 0\",\"workTitle\", \"programID\"])\n",
    "c_df = c_df.rename(columns = {\"Unnamed: 0\": \"composerName\"})\n",
    "c_df = c_df.set_index(\"composerName\")"
   ]
  },
  {
   "cell_type": "markdown",
   "metadata": {},
   "source": [
    "#### Create a dictionary of {\"composerName\" : deathYear} for faster lookup"
   ]
  },
  {
   "cell_type": "code",
   "execution_count": 3,
   "metadata": {},
   "outputs": [],
   "source": [
    "comp = {}\n",
    "\n",
    "for composer, death in c_df.iterrows():\n",
    "    comp[composer] = death[1]"
   ]
  },
  {
   "cell_type": "markdown",
   "metadata": {},
   "source": [
    "#### Insert \"living\" column in df"
   ]
  },
  {
   "cell_type": "code",
   "execution_count": 4,
   "metadata": {},
   "outputs": [],
   "source": [
    "w_df.insert(2, 'living', '')"
   ]
  },
  {
   "cell_type": "markdown",
   "metadata": {},
   "source": [
    "#### Determining whether a composer is living in given season:\n",
    "\n",
    "<em>A living composer was considered a composer that died in the last 5 years from the performance date)</em>"
   ]
  },
  {
   "cell_type": "code",
   "execution_count": 5,
   "metadata": {},
   "outputs": [],
   "source": [
    "def y_since_death (year, composer, dict_composers):\n",
    "    '''\n",
    "    Determines whether composer was living.\n",
    "    Returns 0 if living, else the number of years since death.\n",
    "    '''\n",
    "    if composer in dict_composers:\n",
    "        death_year = dict_composers[composer]\n",
    "\n",
    "        if math.isnan(death_year):\n",
    "            return float('nan')\n",
    "\n",
    "        if death_year == 9999 or (year - death_year) < 0:\n",
    "            return 0\n",
    "        elif not math.isnan(death_year):\n",
    "            return year - death_year\n",
    "    else:\n",
    "        return float('nan')"
   ]
  },
  {
   "cell_type": "code",
   "execution_count": 6,
   "metadata": {},
   "outputs": [],
   "source": [
    "for index, rows in w_df.iterrows():\n",
    "\n",
    "    years_death = y_since_death(int(rows[1][:4]), rows[0], comp)\n",
    "\n",
    "    if years_death > 5:\n",
    "        w_df.living[index] = \"N\"\n",
    "    elif years_death <= 5:\n",
    "        w_df.living[index] = \"Y\""
   ]
  },
  {
   "cell_type": "markdown",
   "metadata": {},
   "source": [
    "#### Write to file"
   ]
  },
  {
   "cell_type": "code",
   "execution_count": 7,
   "metadata": {},
   "outputs": [],
   "source": [
    "w_df.to_csv(path_to_data + \"works_composer_living.csv\")"
   ]
  }
 ],
 "metadata": {
  "kernelspec": {
   "display_name": "Python 3",
   "language": "python",
   "name": "python3"
  },
  "language_info": {
   "codemirror_mode": {
    "name": "ipython",
    "version": 3
   },
   "file_extension": ".py",
   "mimetype": "text/x-python",
   "name": "python",
   "nbconvert_exporter": "python",
   "pygments_lexer": "ipython3",
   "version": "3.7.3"
  }
 },
 "nbformat": 4,
 "nbformat_minor": 2
}
