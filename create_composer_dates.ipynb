{
 "cells": [
  {
   "cell_type": "code",
   "execution_count": 1,
   "metadata": {},
   "outputs": [],
   "source": [
    "import numpy as np\n",
    "import matplotlib.pyplot as plt\n",
    "import pandas as pd\n",
    "%matplotlib inline \n",
    "\n",
    "path_to_data = 'data/clean/'\n",
    "\n",
    "w_df = pd.read_csv(path_to_data +'works_clean.csv')"
   ]
  },
  {
   "cell_type": "markdown",
   "metadata": {},
   "source": [
    "#### Create an empty df with composerName ('last name, first name'), birthYear, deathYear"
   ]
  },
  {
   "cell_type": "code",
   "execution_count": 2,
   "metadata": {},
   "outputs": [
    {
     "data": {
      "text/html": [
       "<div>\n",
       "<style scoped>\n",
       "    .dataframe tbody tr th:only-of-type {\n",
       "        vertical-align: middle;\n",
       "    }\n",
       "\n",
       "    .dataframe tbody tr th {\n",
       "        vertical-align: top;\n",
       "    }\n",
       "\n",
       "    .dataframe thead th {\n",
       "        text-align: right;\n",
       "    }\n",
       "</style>\n",
       "<table border=\"1\" class=\"dataframe\">\n",
       "  <thead>\n",
       "    <tr style=\"text-align: right;\">\n",
       "      <th></th>\n",
       "      <th>birthYear</th>\n",
       "      <th>deathYear</th>\n",
       "    </tr>\n",
       "  </thead>\n",
       "  <tbody>\n",
       "    <tr>\n",
       "      <th>Beethoven,  Ludwig  van</th>\n",
       "      <td></td>\n",
       "      <td></td>\n",
       "    </tr>\n",
       "    <tr>\n",
       "      <th>Wagner,  Richard</th>\n",
       "      <td></td>\n",
       "      <td></td>\n",
       "    </tr>\n",
       "    <tr>\n",
       "      <th>Tchaikovsky,  Pyotr  Ilyich</th>\n",
       "      <td></td>\n",
       "      <td></td>\n",
       "    </tr>\n",
       "    <tr>\n",
       "      <th>Mozart,  Wolfgang  Amadeus</th>\n",
       "      <td></td>\n",
       "      <td></td>\n",
       "    </tr>\n",
       "    <tr>\n",
       "      <th>Brahms,  Johannes</th>\n",
       "      <td></td>\n",
       "      <td></td>\n",
       "    </tr>\n",
       "    <tr>\n",
       "      <th>Strauss,  Richard</th>\n",
       "      <td></td>\n",
       "      <td></td>\n",
       "    </tr>\n",
       "    <tr>\n",
       "      <th>Bach,  Johann  Sebastian</th>\n",
       "      <td></td>\n",
       "      <td></td>\n",
       "    </tr>\n",
       "    <tr>\n",
       "      <th>Mendelssohn,  Felix</th>\n",
       "      <td></td>\n",
       "      <td></td>\n",
       "    </tr>\n",
       "    <tr>\n",
       "      <th>Dvorak,  Antonín</th>\n",
       "      <td></td>\n",
       "      <td></td>\n",
       "    </tr>\n",
       "    <tr>\n",
       "      <th>Schubert,  Franz</th>\n",
       "      <td></td>\n",
       "      <td></td>\n",
       "    </tr>\n",
       "  </tbody>\n",
       "</table>\n",
       "</div>"
      ],
      "text/plain": [
       "                            birthYear deathYear\n",
       "Beethoven,  Ludwig  van                        \n",
       "Wagner,  Richard                               \n",
       "Tchaikovsky,  Pyotr  Ilyich                    \n",
       "Mozart,  Wolfgang  Amadeus                     \n",
       "Brahms,  Johannes                              \n",
       "Strauss,  Richard                              \n",
       "Bach,  Johann  Sebastian                       \n",
       "Mendelssohn,  Felix                            \n",
       "Dvorak,  Antonín                               \n",
       "Schubert,  Franz                               "
      ]
     },
     "execution_count": 2,
     "metadata": {},
     "output_type": "execute_result"
    }
   ],
   "source": [
    "w = w_df.composerName.value_counts()\n",
    "\n",
    "comp_df = w.to_frame(\"birthYear\")\n",
    "\n",
    "comp_df['birthYear'] = \"\"\n",
    "comp_df[\"deathYear\"] = \"\"\n",
    "\n",
    "comp_df[:10]"
   ]
  },
  {
   "cell_type": "markdown",
   "metadata": {},
   "source": [
    "### Use Wikipedia API to determine composers birthYear and deathYear"
   ]
  },
  {
   "cell_type": "code",
   "execution_count": 3,
   "metadata": {},
   "outputs": [],
   "source": [
    "import wikipediaapi\n",
    "import re\n",
    "\n",
    "wiki_wiki = wikipediaapi.Wikipedia('en')"
   ]
  },
  {
   "cell_type": "code",
   "execution_count": 40,
   "metadata": {},
   "outputs": [],
   "source": [
    "not_found = [] #list of not found composers\n",
    "\n",
    "for i in range(793, len(comp_df)): #request times out occasionally, so picking up where it stopped\n",
    "    \n",
    "    # transforming from 'Beethoven, Ludwig van' to 'Ludwig van Beethoven'\n",
    "    composer = comp_df.index[i]\n",
    "    names = re.split(r'[,]', composer) \n",
    "    names.reverse() \n",
    "    composer = \" \".join(names)\n",
    "    \n",
    "    #some composers have alternate spellings in their name between []. Remove them to facilitate Wikipedia lookup.\n",
    "    if \"[\" in composer:\n",
    "        i_i = composer.find('[') -1\n",
    "        j_j = composer.find(']') + 1\n",
    "        composer = composer.replace(composer[i_i:j_j], \"\")\n",
    "    \n",
    "    comp_pg = wiki_wiki.page(composer)\n",
    "    \n",
    "    if comp_pg.exists():\n",
    "        summary = comp_pg.summary\n",
    "        \n",
    "        birth_year = \"0000\"\n",
    "        death_year = \"9999\"\n",
    "        \n",
    "        for word in re.split(r'\\W+', summary): #get only non-words. \n",
    "\n",
    "            if word.isdigit() and len(word) == 4:\n",
    "\n",
    "                if birth_year == \"0000\": #first occurrence\n",
    "                    birth_year = int(word)\n",
    "                    continue\n",
    "\n",
    "                if death_year == \"9999\": #second occurrence\n",
    "                    death_year = int(word)\n",
    "\n",
    "        comp_df[\"birthYear\"][i] = float(birth_year)\n",
    "        comp_df[\"deathYear\"][i] = float(death_year)\n",
    "\n",
    "    else:\n",
    "        not_found.append(composer)\n",
    "        comp_df[\"birthYear\"][i] = float('nan')\n",
    "        comp_df[\"deathYear\"][i] = float('nan')"
   ]
  },
  {
   "cell_type": "markdown",
   "metadata": {},
   "source": [
    "#### Saving to file"
   ]
  },
  {
   "cell_type": "code",
   "execution_count": 44,
   "metadata": {},
   "outputs": [],
   "source": [
    "comp_df.to_csv(path_to_data + \"comp_dates.csv\")\n",
    "\n",
    "f = open(path_to_data + \"notfound.txt\",\"w+\")\n",
    "\n",
    "for comp in not_found:\n",
    "    f.write(comp + \"\\n\")\n",
    "    \n",
    "f.close()"
   ]
  }
 ],
 "metadata": {
  "kernelspec": {
   "display_name": "Python 3",
   "language": "python",
   "name": "python3"
  },
  "language_info": {
   "codemirror_mode": {
    "name": "ipython",
    "version": 3
   },
   "file_extension": ".py",
   "mimetype": "text/x-python",
   "name": "python",
   "nbconvert_exporter": "python",
   "pygments_lexer": "ipython3",
   "version": "3.7.3"
  }
 },
 "nbformat": 4,
 "nbformat_minor": 2
}
